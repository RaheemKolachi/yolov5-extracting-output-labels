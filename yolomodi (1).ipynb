{
 "cells": [
  {
   "cell_type": "code",
   "execution_count": 1,
   "id": "d2d7cdb7",
   "metadata": {},
   "outputs": [],
   "source": [
    "import torch\n",
    "#from matplotlib import pyplot as plt\n",
    "import numpy as np\n",
    "import torch.nn as nn\n",
    "import torch.nn.functional as F\n",
    "import cv2"
   ]
  },
  {
   "cell_type": "code",
   "execution_count": 2,
   "id": "fbe17968",
   "metadata": {},
   "outputs": [
    {
     "name": "stderr",
     "output_type": "stream",
     "text": [
      "Downloading: \"https://github.com/ultralytics/yolov5/zipball/master\" to C:\\Users\\rahee/.cache\\torch\\hub\\master.zip\n",
      "YOLOv5  2022-10-27 Python-3.10.4 torch-1.12.1+cpu CPU\n",
      "\n",
      "Fusing layers... \n",
      "custom_model summary: 213 layers, 7018216 parameters, 0 gradients, 15.8 GFLOPs\n",
      "Adding AutoShape... \n"
     ]
    }
   ],
   "source": [
    "model = torch.hub.load('ultralytics/yolov5', 'custom', path='D:\\\\best.pt', force_reload=True)"
   ]
  },
  {
   "cell_type": "code",
   "execution_count": null,
   "id": "24befe51",
   "metadata": {},
   "outputs": [
    {
     "name": "stdout",
     "output_type": "stream",
     "text": [
      "[[     28.816]\n",
      " [     26.552]]\n",
      "[[     28.816]\n",
      " [     26.552]]\n",
      "[[     28.154]]\n",
      "[[     31.703]\n",
      " [     27.203]]\n",
      "[[     31.703]\n",
      " [     27.203]]\n",
      "raheem\n",
      "project\n",
      "[[     27.243]]\n",
      "[[     37.395]]\n",
      "raheem\n",
      "[[     29.023]]\n"
     ]
    }
   ],
   "source": [
    "cap = cv2.VideoCapture(0)\n",
    "\n",
    "\n",
    "while cap.isOpened():\n",
    "    ret, frame = cap.read()\n",
    "\n",
    "    # Make detections \n",
    "    results = model(frame)\n",
    "    results.xyxy[0]  # im predictions (tensor)\n",
    "    dat=results.pandas().xyxy[0]  # im predictions (pandas)\n",
    "    name=dat[[\"name\"]]\n",
    "    output=name.values\n",
    "    \n",
    "    con=dat[[\"confidence\"]]\n",
    "    conout=con.values\n",
    "    for (i,lab) in enumerate(conout):\n",
    "        confid=conout\n",
    "        confid=confid*100\n",
    "        print(confid)\n",
    "        \n",
    "    \n",
    "    \n",
    "    for (i,lab) in enumerate(output):\n",
    "        if (confid >=30).any():  # accuracy change it accoding to your thersuld \n",
    "            if lab == 'Healthy-plant':\n",
    "                print(\"use here pyserial for arduino\")\n",
    "            if lab==\"Late-Blight\":\n",
    "                print(\"copy same for next class \")\n",
    "    \n",
    "    cv2.imshow('YOLO', np.squeeze(results.render()))\n",
    "    \n",
    "    \n",
    "    if cv2.waitKey(1) & 0xFF == ord('q'):\n",
    "        break\n",
    "cap.release()\n",
    "cv2.destroyAllWindows()\n",
    "    "
   ]
  },
  {
   "cell_type": "code",
   "execution_count": null,
   "id": "40827114",
   "metadata": {},
   "outputs": [],
   "source": []
  },
  {
   "cell_type": "code",
   "execution_count": null,
   "id": "2ef0cc54",
   "metadata": {},
   "outputs": [],
   "source": []
  }
 ],
 "metadata": {
  "kernelspec": {
   "display_name": "Python 3 (ipykernel)",
   "language": "python",
   "name": "python3"
  },
  "language_info": {
   "codemirror_mode": {
    "name": "ipython",
    "version": 3
   },
   "file_extension": ".py",
   "mimetype": "text/x-python",
   "name": "python",
   "nbconvert_exporter": "python",
   "pygments_lexer": "ipython3",
   "version": "3.10.4"
  }
 },
 "nbformat": 4,
 "nbformat_minor": 5
}
